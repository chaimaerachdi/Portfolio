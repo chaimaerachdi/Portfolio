{
  "cells": [
    {
      "cell_type": "markdown",
      "metadata": {
        "id": "view-in-github",
        "colab_type": "text"
      },
      "source": [
        "<a href=\"https://colab.research.google.com/github/chaimaerachdi/Portfolio/blob/main/Copy_of_Tp_preprocessing.ipynb\" target=\"_parent\"><img src=\"https://colab.research.google.com/assets/colab-badge.svg\" alt=\"Open In Colab\"/></a>"
      ]
    },
    {
      "cell_type": "markdown",
      "metadata": {
        "id": "NeV8A9bHvurr"
      },
      "source": [
        "https://www.kaggle.com/code/abdulrahmanatef/start-with-text-preprocessing#Conversion-of-Emoticon-to-Words"
      ]
    },
    {
      "cell_type": "code",
      "execution_count": null,
      "metadata": {
        "id": "Dlc-OHWkohYI"
      },
      "outputs": [],
      "source": [
        "!mkdir -p ~/.kaggle\n",
        "!cp kaggle.json ~/.kaggle/\n",
        "!chmod 600 ~/.kaggle/kaggle.json"
      ]
    },
    {
      "cell_type": "code",
      "execution_count": null,
      "metadata": {
        "colab": {
          "base_uri": "https://localhost:8080/"
        },
        "id": "QXb0wpi-nLYT",
        "outputId": "e6975b22-7237-4b4c-cf20-1c311a035f07"
      },
      "outputs": [
        {
          "name": "stdout",
          "output_type": "stream",
          "text": [
            "customer-support-on-twitter.zip: Skipping, found more recently modified local copy (use --force to force download)\n"
          ]
        }
      ],
      "source": [
        "!kaggle datasets download -d thoughtvector/customer-support-on-twitter"
      ]
    },
    {
      "cell_type": "code",
      "execution_count": null,
      "metadata": {
        "colab": {
          "base_uri": "https://localhost:8080/"
        },
        "id": "FeFvn7OLuCt_",
        "outputId": "866d8a37-cc6d-4fd3-a7da-596e95f6e5e6"
      },
      "outputs": [
        {
          "name": "stdout",
          "output_type": "stream",
          "text": [
            "Archive:  /content/customer-support-on-twitter.zip\n",
            "  inflating: sample.csv              \n",
            "  inflating: twcs/twcs.csv           \n"
          ]
        }
      ],
      "source": [
        "!unzip /content/customer-support-on-twitter.zip"
      ]
    },
    {
      "cell_type": "code",
      "execution_count": null,
      "metadata": {
        "id": "65Si_bPNuSyu"
      },
      "outputs": [],
      "source": [
        "import pandas as pd\n",
        "import numpy as np\n",
        "import matplotlib.pyplot as plt"
      ]
    },
    {
      "cell_type": "code",
      "execution_count": null,
      "metadata": {
        "id": "Y-JvVb3pvp1D"
      },
      "outputs": [],
      "source": [
        "#NLTK, Spacy"
      ]
    },
    {
      "cell_type": "code",
      "execution_count": null,
      "metadata": {
        "id": "arZVsjfvuWs-"
      },
      "outputs": [],
      "source": [
        "df=pd.read_csv('/content/sample.csv')"
      ]
    },
    {
      "cell_type": "code",
      "execution_count": null,
      "metadata": {
        "id": "1R1ZgN1z_5e4"
      },
      "outputs": [],
      "source": [
        "\n",
        "\n"
      ]
    },
    {
      "cell_type": "code",
      "execution_count": null,
      "metadata": {
        "id": "Wz0BCV_yuK3d"
      },
      "outputs": [],
      "source": []
    },
    {
      "cell_type": "code",
      "execution_count": null,
      "metadata": {
        "id": "pKcNYwNBxR9P",
        "colab": {
          "base_uri": "https://localhost:8080/",
          "height": 108
        },
        "outputId": "05848983-36a0-4fc3-aca9-e2f00a309018"
      },
      "outputs": [
        {
          "output_type": "error",
          "ename": "SyntaxError",
          "evalue": "invalid syntax (<ipython-input-19-aa337eed7e95>, line 42)",
          "traceback": [
            "\u001b[0;36m  File \u001b[0;32m\"<ipython-input-19-aa337eed7e95>\"\u001b[0;36m, line \u001b[0;32m42\u001b[0m\n\u001b[0;31m    git config --global user.email \"chaimer759@gmail.com\"\u001b[0m\n\u001b[0m        ^\u001b[0m\n\u001b[0;31mSyntaxError\u001b[0m\u001b[0;31m:\u001b[0m invalid syntax\n"
          ]
        }
      ],
      "source": [
        "import pandas as pd\n",
        "import nltk\n",
        "from nltk.corpus import stopwords\n",
        "from nltk.stem import PorterStemmer, WordNetLemmatizer\n",
        "import re\n",
        "\n",
        "nltk.download('stopwords')\n",
        "\n",
        "# Téléchargez le dataset depuis Kaggle\n",
        "# Assurez-vous d'ajuster le chemin du fichier CSV selon votre emplacement\n",
        "df=pd.read_csv('/content/sample.csv')\n",
        "# Affichez les premières lignes pour comprendre la structure du dataset\n",
        "print(df.head())\n",
        "\n",
        "# Mise en minuscules\n",
        "df['text_cleaned'] = df['text'].str.lower()\n",
        "\n",
        "# Suppression des ponctuations\n",
        "df['text_cleaned'] = df['text_cleaned'].apply(lambda x: re.sub(r'[^\\w\\s]', '', x))\n",
        "\n",
        "# Suppression des mots vides (stopwords)\n",
        "stop_words = set(stopwords.words('english'))\n",
        "df['text_cleaned'] = df['text_cleaned'].apply(lambda x: ' '.join([word for word in x.split() if word not in stop_words]))\n",
        "\n",
        "# Stemming\n",
        "stemmer = PorterStemmer()\n",
        "df['text_cleaned'] = df['text_cleaned'].apply(lambda x: ' '.join([stemmer.stem(word) for word in x.split()]))\n",
        "\n",
        "# Lemmatisation\n",
        "lemmatizer = WordNetLemmatizer()\n",
        "#df['text_cleaned'] = df['text_cleaned'].apply(lambda x: ' '.join([lemmatizer.lemmatize(word) for word in x.split()]))\n",
        "\n",
        "# Suppression des émojis, émoticônes, URL, balises HTML\n",
        "df['text_cleaned'] = df['text_cleaned'].apply(lambda x: re.sub(r'<.*?>|[^a-zA-Z0-9\\s]|:\\)|:-\\)|:\\(|:-\\(', '', x))\n",
        "\n",
        "# Affichez le dataframe résultant\n",
        "print(df[['tweet_id', 'text', 'text_cleaned']].head())\n",
        "\n",
        "# Poussez votre notebook sur GitHub en utilisant Git\n",
        "# Assurez-vous d'initialiser un dépôt git dans votre projet et de le lier à votre compte GitHub\n",
        "# Vous pouvez utiliser les commandes suivantes :\n",
        "git config --global user.email \"chaimer759@gmail.com\"\n",
        "git config --global user.name \"chaimae\"\n",
        "!git init\n",
        "!git add .\n",
        "!git commit -m \"Initial commit\"\n",
        "!git remote add origin https://github.com/chaimaerachdi\n",
        "!git push -u origin master\n",
        "\n"
      ]
    }
  ],
  "metadata": {
    "colab": {
      "provenance": [],
      "include_colab_link": true
    },
    "kernelspec": {
      "display_name": "Python 3",
      "name": "python3"
    },
    "language_info": {
      "name": "python"
    }
  },
  "nbformat": 4,
  "nbformat_minor": 0
}